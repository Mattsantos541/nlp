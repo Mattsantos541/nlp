{
 "cells": [
  {
   "cell_type": "code",
   "execution_count": 24,
   "metadata": {},
   "outputs": [],
   "source": [
    "import unicodedata\n",
    "import re\n",
    "import json\n",
    "\n",
    "import nltk\n",
    "from nltk.tokenize.toktok import ToktokTokenizer\n",
    "from nltk.corpus import stopwords\n",
    "\n",
    "import pandas as pd\n",
    "\n",
    "import acquire\n"
   ]
  },
  {
   "cell_type": "markdown",
   "metadata": {},
   "source": [
    "Here's our plan for parsing the text data:\n",
    "\n",
    "Convert text to all lower case for normalcy.\n",
    "Remove any accented characters, non-ASCII characters.\n",
    "Remove special characters.\n",
    "Stem or lemmatize the words.\n",
    "Remove stopwords.\n",
    "Store the clean text and the original text for use in future notebooks."
   ]
  },
  {
   "cell_type": "code",
   "execution_count": 25,
   "metadata": {},
   "outputs": [],
   "source": [
    "original= acquire.get_blog_posts()"
   ]
  },
  {
   "cell_type": "code",
   "execution_count": 26,
   "metadata": {},
   "outputs": [
    {
     "data": {
      "text/html": [
       "<div>\n",
       "<style scoped>\n",
       "    .dataframe tbody tr th:only-of-type {\n",
       "        vertical-align: middle;\n",
       "    }\n",
       "\n",
       "    .dataframe tbody tr th {\n",
       "        vertical-align: top;\n",
       "    }\n",
       "\n",
       "    .dataframe thead th {\n",
       "        text-align: right;\n",
       "    }\n",
       "</style>\n",
       "<table border=\"1\" class=\"dataframe\">\n",
       "  <thead>\n",
       "    <tr style=\"text-align: right;\">\n",
       "      <th></th>\n",
       "      <th>Unnamed: 0</th>\n",
       "      <th>body</th>\n",
       "      <th>title</th>\n",
       "    </tr>\n",
       "  </thead>\n",
       "  <tbody>\n",
       "    <tr>\n",
       "      <th>0</th>\n",
       "      <td>0</td>\n",
       "      <td>\\nThe rumors are true! The time has arrived. C...</td>\n",
       "      <td>Codeup’s Data Science Career Accelerator is He...</td>\n",
       "    </tr>\n",
       "    <tr>\n",
       "      <th>1</th>\n",
       "      <td>1</td>\n",
       "      <td>\\nBy Dimitri Antoniou and Maggie Giust\\nData S...</td>\n",
       "      <td>Data Science Myths - Codeup</td>\n",
       "    </tr>\n",
       "    <tr>\n",
       "      <th>2</th>\n",
       "      <td>2</td>\n",
       "      <td>\\nBy Dimitri Antoniou\\nA week ago, Codeup laun...</td>\n",
       "      <td>Data Science VS Data Analytics: What’s The Dif...</td>\n",
       "    </tr>\n",
       "    <tr>\n",
       "      <th>3</th>\n",
       "      <td>3</td>\n",
       "      <td>\\n10 Tips to Crush It at the SA Tech Job Fair\\...</td>\n",
       "      <td>10 Tips to Crush It at the SA Tech Job Fair - ...</td>\n",
       "    </tr>\n",
       "    <tr>\n",
       "      <th>4</th>\n",
       "      <td>4</td>\n",
       "      <td>\\nCompetitor Bootcamps Are Closing. Is the Mod...</td>\n",
       "      <td>Competitor Bootcamps Are Closing. Is the Model...</td>\n",
       "    </tr>\n",
       "  </tbody>\n",
       "</table>\n",
       "</div>"
      ],
      "text/plain": [
       "   Unnamed: 0                                               body  \\\n",
       "0           0  \\nThe rumors are true! The time has arrived. C...   \n",
       "1           1  \\nBy Dimitri Antoniou and Maggie Giust\\nData S...   \n",
       "2           2  \\nBy Dimitri Antoniou\\nA week ago, Codeup laun...   \n",
       "3           3  \\n10 Tips to Crush It at the SA Tech Job Fair\\...   \n",
       "4           4  \\nCompetitor Bootcamps Are Closing. Is the Mod...   \n",
       "\n",
       "                                               title  \n",
       "0  Codeup’s Data Science Career Accelerator is He...  \n",
       "1                        Data Science Myths - Codeup  \n",
       "2  Data Science VS Data Analytics: What’s The Dif...  \n",
       "3  10 Tips to Crush It at the SA Tech Job Fair - ...  \n",
       "4  Competitor Bootcamps Are Closing. Is the Model...  "
      ]
     },
     "execution_count": 26,
     "metadata": {},
     "output_type": "execute_result"
    }
   ],
   "source": [
    "original"
   ]
  },
  {
   "cell_type": "code",
   "execution_count": 27,
   "metadata": {},
   "outputs": [],
   "source": [
    "article= original.copy()"
   ]
  },
  {
   "cell_type": "code",
   "execution_count": 28,
   "metadata": {},
   "outputs": [
    {
     "data": {
      "text/html": [
       "<div>\n",
       "<style scoped>\n",
       "    .dataframe tbody tr th:only-of-type {\n",
       "        vertical-align: middle;\n",
       "    }\n",
       "\n",
       "    .dataframe tbody tr th {\n",
       "        vertical-align: top;\n",
       "    }\n",
       "\n",
       "    .dataframe thead th {\n",
       "        text-align: right;\n",
       "    }\n",
       "</style>\n",
       "<table border=\"1\" class=\"dataframe\">\n",
       "  <thead>\n",
       "    <tr style=\"text-align: right;\">\n",
       "      <th></th>\n",
       "      <th>Unnamed: 0</th>\n",
       "      <th>body</th>\n",
       "      <th>title</th>\n",
       "    </tr>\n",
       "  </thead>\n",
       "  <tbody>\n",
       "    <tr>\n",
       "      <th>0</th>\n",
       "      <td>0</td>\n",
       "      <td>\\nThe rumors are true! The time has arrived. C...</td>\n",
       "      <td>Codeup’s Data Science Career Accelerator is He...</td>\n",
       "    </tr>\n",
       "    <tr>\n",
       "      <th>1</th>\n",
       "      <td>1</td>\n",
       "      <td>\\nBy Dimitri Antoniou and Maggie Giust\\nData S...</td>\n",
       "      <td>Data Science Myths - Codeup</td>\n",
       "    </tr>\n",
       "    <tr>\n",
       "      <th>2</th>\n",
       "      <td>2</td>\n",
       "      <td>\\nBy Dimitri Antoniou\\nA week ago, Codeup laun...</td>\n",
       "      <td>Data Science VS Data Analytics: What’s The Dif...</td>\n",
       "    </tr>\n",
       "    <tr>\n",
       "      <th>3</th>\n",
       "      <td>3</td>\n",
       "      <td>\\n10 Tips to Crush It at the SA Tech Job Fair\\...</td>\n",
       "      <td>10 Tips to Crush It at the SA Tech Job Fair - ...</td>\n",
       "    </tr>\n",
       "    <tr>\n",
       "      <th>4</th>\n",
       "      <td>4</td>\n",
       "      <td>\\nCompetitor Bootcamps Are Closing. Is the Mod...</td>\n",
       "      <td>Competitor Bootcamps Are Closing. Is the Model...</td>\n",
       "    </tr>\n",
       "  </tbody>\n",
       "</table>\n",
       "</div>"
      ],
      "text/plain": [
       "   Unnamed: 0                                               body  \\\n",
       "0           0  \\nThe rumors are true! The time has arrived. C...   \n",
       "1           1  \\nBy Dimitri Antoniou and Maggie Giust\\nData S...   \n",
       "2           2  \\nBy Dimitri Antoniou\\nA week ago, Codeup laun...   \n",
       "3           3  \\n10 Tips to Crush It at the SA Tech Job Fair\\...   \n",
       "4           4  \\nCompetitor Bootcamps Are Closing. Is the Mod...   \n",
       "\n",
       "                                               title  \n",
       "0  Codeup’s Data Science Career Accelerator is He...  \n",
       "1                        Data Science Myths - Codeup  \n",
       "2  Data Science VS Data Analytics: What’s The Dif...  \n",
       "3  10 Tips to Crush It at the SA Tech Job Fair - ...  \n",
       "4  Competitor Bootcamps Are Closing. Is the Model...  "
      ]
     },
     "execution_count": 28,
     "metadata": {},
     "output_type": "execute_result"
    }
   ],
   "source": [
    "article"
   ]
  },
  {
   "cell_type": "code",
   "execution_count": 29,
   "metadata": {},
   "outputs": [],
   "source": [
    "article.title = article.title.str.lower()\n",
    "article.body = article.body.str.lower()"
   ]
  },
  {
   "cell_type": "code",
   "execution_count": 30,
   "metadata": {},
   "outputs": [
    {
     "data": {
      "text/html": [
       "<div>\n",
       "<style scoped>\n",
       "    .dataframe tbody tr th:only-of-type {\n",
       "        vertical-align: middle;\n",
       "    }\n",
       "\n",
       "    .dataframe tbody tr th {\n",
       "        vertical-align: top;\n",
       "    }\n",
       "\n",
       "    .dataframe thead th {\n",
       "        text-align: right;\n",
       "    }\n",
       "</style>\n",
       "<table border=\"1\" class=\"dataframe\">\n",
       "  <thead>\n",
       "    <tr style=\"text-align: right;\">\n",
       "      <th></th>\n",
       "      <th>Unnamed: 0</th>\n",
       "      <th>body</th>\n",
       "      <th>title</th>\n",
       "    </tr>\n",
       "  </thead>\n",
       "  <tbody>\n",
       "    <tr>\n",
       "      <th>0</th>\n",
       "      <td>0</td>\n",
       "      <td>\\nthe rumors are true! the time has arrived. c...</td>\n",
       "      <td>codeup’s data science career accelerator is he...</td>\n",
       "    </tr>\n",
       "    <tr>\n",
       "      <th>1</th>\n",
       "      <td>1</td>\n",
       "      <td>\\nby dimitri antoniou and maggie giust\\ndata s...</td>\n",
       "      <td>data science myths - codeup</td>\n",
       "    </tr>\n",
       "    <tr>\n",
       "      <th>2</th>\n",
       "      <td>2</td>\n",
       "      <td>\\nby dimitri antoniou\\na week ago, codeup laun...</td>\n",
       "      <td>data science vs data analytics: what’s the dif...</td>\n",
       "    </tr>\n",
       "    <tr>\n",
       "      <th>3</th>\n",
       "      <td>3</td>\n",
       "      <td>\\n10 tips to crush it at the sa tech job fair\\...</td>\n",
       "      <td>10 tips to crush it at the sa tech job fair - ...</td>\n",
       "    </tr>\n",
       "    <tr>\n",
       "      <th>4</th>\n",
       "      <td>4</td>\n",
       "      <td>\\ncompetitor bootcamps are closing. is the mod...</td>\n",
       "      <td>competitor bootcamps are closing. is the model...</td>\n",
       "    </tr>\n",
       "  </tbody>\n",
       "</table>\n",
       "</div>"
      ],
      "text/plain": [
       "   Unnamed: 0                                               body  \\\n",
       "0           0  \\nthe rumors are true! the time has arrived. c...   \n",
       "1           1  \\nby dimitri antoniou and maggie giust\\ndata s...   \n",
       "2           2  \\nby dimitri antoniou\\na week ago, codeup laun...   \n",
       "3           3  \\n10 tips to crush it at the sa tech job fair\\...   \n",
       "4           4  \\ncompetitor bootcamps are closing. is the mod...   \n",
       "\n",
       "                                               title  \n",
       "0  codeup’s data science career accelerator is he...  \n",
       "1                        data science myths - codeup  \n",
       "2  data science vs data analytics: what’s the dif...  \n",
       "3  10 tips to crush it at the sa tech job fair - ...  \n",
       "4  competitor bootcamps are closing. is the model...  "
      ]
     },
     "execution_count": 30,
     "metadata": {},
     "output_type": "execute_result"
    }
   ],
   "source": [
    "article"
   ]
  },
  {
   "cell_type": "code",
   "execution_count": 31,
   "metadata": {},
   "outputs": [],
   "source": [
    "def normalize(string):\n",
    "    return unicodedata.normalize('NFKD', string).encode('ascii', 'ignore').decode('utf-8', 'ignore')"
   ]
  },
  {
   "cell_type": "code",
   "execution_count": 35,
   "metadata": {},
   "outputs": [
    {
     "data": {
      "text/html": [
       "<div>\n",
       "<style scoped>\n",
       "    .dataframe tbody tr th:only-of-type {\n",
       "        vertical-align: middle;\n",
       "    }\n",
       "\n",
       "    .dataframe tbody tr th {\n",
       "        vertical-align: top;\n",
       "    }\n",
       "\n",
       "    .dataframe thead th {\n",
       "        text-align: right;\n",
       "    }\n",
       "</style>\n",
       "<table border=\"1\" class=\"dataframe\">\n",
       "  <thead>\n",
       "    <tr style=\"text-align: right;\">\n",
       "      <th></th>\n",
       "      <th>Unnamed: 0</th>\n",
       "      <th>body</th>\n",
       "      <th>title</th>\n",
       "    </tr>\n",
       "  </thead>\n",
       "  <tbody>\n",
       "    <tr>\n",
       "      <th>0</th>\n",
       "      <td>0</td>\n",
       "      <td>\\nthe rumors are true! the time has arrived. c...</td>\n",
       "      <td>codeups data science career accelerator is her...</td>\n",
       "    </tr>\n",
       "    <tr>\n",
       "      <th>1</th>\n",
       "      <td>1</td>\n",
       "      <td>\\nby dimitri antoniou and maggie giust\\ndata s...</td>\n",
       "      <td>data science myths - codeup</td>\n",
       "    </tr>\n",
       "    <tr>\n",
       "      <th>2</th>\n",
       "      <td>2</td>\n",
       "      <td>\\nby dimitri antoniou\\na week ago, codeup laun...</td>\n",
       "      <td>data science vs data analytics: whats the diff...</td>\n",
       "    </tr>\n",
       "    <tr>\n",
       "      <th>3</th>\n",
       "      <td>3</td>\n",
       "      <td>\\n10 tips to crush it at the sa tech job fair\\...</td>\n",
       "      <td>10 tips to crush it at the sa tech job fair - ...</td>\n",
       "    </tr>\n",
       "    <tr>\n",
       "      <th>4</th>\n",
       "      <td>4</td>\n",
       "      <td>\\ncompetitor bootcamps are closing. is the mod...</td>\n",
       "      <td>competitor bootcamps are closing. is the model...</td>\n",
       "    </tr>\n",
       "  </tbody>\n",
       "</table>\n",
       "</div>"
      ],
      "text/plain": [
       "   Unnamed: 0                                               body  \\\n",
       "0           0  \\nthe rumors are true! the time has arrived. c...   \n",
       "1           1  \\nby dimitri antoniou and maggie giust\\ndata s...   \n",
       "2           2  \\nby dimitri antoniou\\na week ago, codeup laun...   \n",
       "3           3  \\n10 tips to crush it at the sa tech job fair\\...   \n",
       "4           4  \\ncompetitor bootcamps are closing. is the mod...   \n",
       "\n",
       "                                               title  \n",
       "0  codeups data science career accelerator is her...  \n",
       "1                        data science myths - codeup  \n",
       "2  data science vs data analytics: whats the diff...  \n",
       "3  10 tips to crush it at the sa tech job fair - ...  \n",
       "4  competitor bootcamps are closing. is the model...  "
      ]
     },
     "execution_count": 35,
     "metadata": {},
     "output_type": "execute_result"
    }
   ],
   "source": [
    "# df.column.apply(function_name) runs the fn on every row in the column\n",
    "article.body = article.body.apply(normalize)\n",
    "article.title=article.title.apply(normalize)\n",
    "article"
   ]
  },
  {
   "cell_type": "code",
   "execution_count": 36,
   "metadata": {},
   "outputs": [],
   "source": [
    "def remove_special_characters(string):\n",
    "    return re.sub(r\"[^a-z0-9'\\s]\", '', string)"
   ]
  },
  {
   "cell_type": "code",
   "execution_count": 38,
   "metadata": {},
   "outputs": [
    {
     "data": {
      "text/html": [
       "<div>\n",
       "<style scoped>\n",
       "    .dataframe tbody tr th:only-of-type {\n",
       "        vertical-align: middle;\n",
       "    }\n",
       "\n",
       "    .dataframe tbody tr th {\n",
       "        vertical-align: top;\n",
       "    }\n",
       "\n",
       "    .dataframe thead th {\n",
       "        text-align: right;\n",
       "    }\n",
       "</style>\n",
       "<table border=\"1\" class=\"dataframe\">\n",
       "  <thead>\n",
       "    <tr style=\"text-align: right;\">\n",
       "      <th></th>\n",
       "      <th>Unnamed: 0</th>\n",
       "      <th>body</th>\n",
       "      <th>title</th>\n",
       "    </tr>\n",
       "  </thead>\n",
       "  <tbody>\n",
       "    <tr>\n",
       "      <th>0</th>\n",
       "      <td>0</td>\n",
       "      <td>\\nthe rumors are true the time has arrived cod...</td>\n",
       "      <td>codeups data science career accelerator is her...</td>\n",
       "    </tr>\n",
       "    <tr>\n",
       "      <th>1</th>\n",
       "      <td>1</td>\n",
       "      <td>\\nby dimitri antoniou and maggie giust\\ndata s...</td>\n",
       "      <td>data science myths - codeup</td>\n",
       "    </tr>\n",
       "    <tr>\n",
       "      <th>2</th>\n",
       "      <td>2</td>\n",
       "      <td>\\nby dimitri antoniou\\na week ago codeup launc...</td>\n",
       "      <td>data science vs data analytics: whats the diff...</td>\n",
       "    </tr>\n",
       "    <tr>\n",
       "      <th>3</th>\n",
       "      <td>3</td>\n",
       "      <td>\\n10 tips to crush it at the sa tech job fair\\...</td>\n",
       "      <td>10 tips to crush it at the sa tech job fair - ...</td>\n",
       "    </tr>\n",
       "    <tr>\n",
       "      <th>4</th>\n",
       "      <td>4</td>\n",
       "      <td>\\ncompetitor bootcamps are closing is the mode...</td>\n",
       "      <td>competitor bootcamps are closing. is the model...</td>\n",
       "    </tr>\n",
       "  </tbody>\n",
       "</table>\n",
       "</div>"
      ],
      "text/plain": [
       "   Unnamed: 0                                               body  \\\n",
       "0           0  \\nthe rumors are true the time has arrived cod...   \n",
       "1           1  \\nby dimitri antoniou and maggie giust\\ndata s...   \n",
       "2           2  \\nby dimitri antoniou\\na week ago codeup launc...   \n",
       "3           3  \\n10 tips to crush it at the sa tech job fair\\...   \n",
       "4           4  \\ncompetitor bootcamps are closing is the mode...   \n",
       "\n",
       "                                               title  \n",
       "0  codeups data science career accelerator is her...  \n",
       "1                        data science myths - codeup  \n",
       "2  data science vs data analytics: whats the diff...  \n",
       "3  10 tips to crush it at the sa tech job fair - ...  \n",
       "4  competitor bootcamps are closing. is the model...  "
      ]
     },
     "execution_count": 38,
     "metadata": {},
     "output_type": "execute_result"
    }
   ],
   "source": [
    "article.body=article.body.apply(remove_special_characters)\n",
    "article"
   ]
  },
  {
   "cell_type": "raw",
   "metadata": {},
   "source": []
  },
  {
   "cell_type": "code",
   "execution_count": null,
   "metadata": {},
   "outputs": [],
   "source": [
    "def token(string):\n",
    "    "
   ]
  },
  {
   "cell_type": "code",
   "execution_count": 43,
   "metadata": {},
   "outputs": [],
   "source": [
    "stopword_list = stopwords.words('english')\n",
    "\n",
    "stopword_list.remove('no')\n",
    "stopword_list.remove('not')"
   ]
  },
  {
   "cell_type": "code",
   "execution_count": 44,
   "metadata": {},
   "outputs": [],
   "source": [
    "def remove_stopwords(string):\n",
    "    words = string.split()\n",
    "    filtered_words = [w for w in words if w not in stopword_list]\n",
    "    joined_words = ' '.join(filtered_words)\n",
    "    return joined_words"
   ]
  },
  {
   "cell_type": "code",
   "execution_count": 48,
   "metadata": {},
   "outputs": [
    {
     "data": {
      "text/html": [
       "<div>\n",
       "<style scoped>\n",
       "    .dataframe tbody tr th:only-of-type {\n",
       "        vertical-align: middle;\n",
       "    }\n",
       "\n",
       "    .dataframe tbody tr th {\n",
       "        vertical-align: top;\n",
       "    }\n",
       "\n",
       "    .dataframe thead th {\n",
       "        text-align: right;\n",
       "    }\n",
       "</style>\n",
       "<table border=\"1\" class=\"dataframe\">\n",
       "  <thead>\n",
       "    <tr style=\"text-align: right;\">\n",
       "      <th></th>\n",
       "      <th>Unnamed: 0</th>\n",
       "      <th>body</th>\n",
       "      <th>title</th>\n",
       "    </tr>\n",
       "  </thead>\n",
       "  <tbody>\n",
       "    <tr>\n",
       "      <th>0</th>\n",
       "      <td>0</td>\n",
       "      <td>rumors true time arrived codeup officially ope...</td>\n",
       "      <td>codeups data science career accelerator here! ...</td>\n",
       "    </tr>\n",
       "    <tr>\n",
       "      <th>1</th>\n",
       "      <td>1</td>\n",
       "      <td>dimitri antoniou maggie giust data science big...</td>\n",
       "      <td>data science myths - codeup</td>\n",
       "    </tr>\n",
       "    <tr>\n",
       "      <th>2</th>\n",
       "      <td>2</td>\n",
       "      <td>dimitri antoniou week ago codeup launched imme...</td>\n",
       "      <td>data science vs data analytics: whats differen...</td>\n",
       "    </tr>\n",
       "    <tr>\n",
       "      <th>3</th>\n",
       "      <td>3</td>\n",
       "      <td>10 tips crush sa tech job fair sa tech job fai...</td>\n",
       "      <td>10 tips crush sa tech job fair - codeup</td>\n",
       "    </tr>\n",
       "    <tr>\n",
       "      <th>4</th>\n",
       "      <td>4</td>\n",
       "      <td>competitor bootcamps closing model danger prog...</td>\n",
       "      <td>competitor bootcamps closing. model danger? - ...</td>\n",
       "    </tr>\n",
       "  </tbody>\n",
       "</table>\n",
       "</div>"
      ],
      "text/plain": [
       "   Unnamed: 0                                               body  \\\n",
       "0           0  rumors true time arrived codeup officially ope...   \n",
       "1           1  dimitri antoniou maggie giust data science big...   \n",
       "2           2  dimitri antoniou week ago codeup launched imme...   \n",
       "3           3  10 tips crush sa tech job fair sa tech job fai...   \n",
       "4           4  competitor bootcamps closing model danger prog...   \n",
       "\n",
       "                                               title  \n",
       "0  codeups data science career accelerator here! ...  \n",
       "1                        data science myths - codeup  \n",
       "2  data science vs data analytics: whats differen...  \n",
       "3            10 tips crush sa tech job fair - codeup  \n",
       "4  competitor bootcamps closing. model danger? - ...  "
      ]
     },
     "execution_count": 48,
     "metadata": {},
     "output_type": "execute_result"
    }
   ],
   "source": [
    "article.body=article.body.apply(remove_stopwords)\n",
    "article.title=article.title.apply(remove_stopwords)\n",
    "article"
   ]
  },
  {
   "cell_type": "code",
   "execution_count": null,
   "metadata": {},
   "outputs": [],
   "source": [
    "# Where we start\n",
    "string = unicodedata.normalize('NFKD', string).encode('ascii', 'ignore').decode('utf-8', 'ignore')\n",
    "# But now, how do we get this to work on any string?\n",
    "# Then how do we dataframe this?\n",
    "# Step 1:\n",
    "# Define a function that works on any string.\n",
    "def normalize(string):\n",
    "    return unicodedata.normalize('NFKD', string).encode('ascii', 'ignore').decode('utf-8', 'ignore')\n",
    "# Step 2:\n",
    "# Use this function on the appropriate column in a df\n",
    "df = pd.DataFrame({\"example\": [\"laéios\", \"nü\", \"stüff\"]})\n",
    "# df.column.apply(function_name) runs the fn on every row in the column\n",
    "df[\"clean\"] = df.example.apply(normalize)"
   ]
  }
 ],
 "metadata": {
  "kernelspec": {
   "display_name": "Python 3",
   "language": "python",
   "name": "python3"
  },
  "language_info": {
   "codemirror_mode": {
    "name": "ipython",
    "version": 3
   },
   "file_extension": ".py",
   "mimetype": "text/x-python",
   "name": "python",
   "nbconvert_exporter": "python",
   "pygments_lexer": "ipython3",
   "version": "3.7.3"
  }
 },
 "nbformat": 4,
 "nbformat_minor": 2
}
