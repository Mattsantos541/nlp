{
 "cells": [
  {
   "cell_type": "code",
   "execution_count": 1,
   "metadata": {},
   "outputs": [
    {
     "name": "stdout",
     "output_type": "stream",
     "text": [
      "stuff\n",
      "[{'title': 'RBI keeps repo rate unchanged at 5.15% after five cuts this year', 'content': 'The RBI on Thursday kept the repo rate unchanged after five cuts this year. In 2019, the RBI has cut repo rate by 135 basis points so far but banks have passed on only a fraction of rate cuts to consumers. The status quo comes despite data showing growth slumping to a six-and-a-half-year low of 4.5% in the July-September quarter.', 'category': 'business', 'author': 'Krishna Veera Vanamali', 'published_date': '2019-12-05T06:25:25.000Z'}, {'title': 'P Chidambaram walks out of Tihar Jail after 106 days', 'content': 'Congress leader P Chidambaram walked out of Tihar Jail on Wednesday evening after spending 106 days in custody in connection with the INX Media case. His release came after the Supreme Court today granted him bail on conditions like surrendering his passport and making himself available for questioning. Chidambaram was arrested on August 21 by the Central Bureau of Investigation.', 'category': 'business', 'author': 'Pragya Swastik', 'published_date': '2019-12-04T14:57:31.000Z'}, {'title': '8, 7, 6.6, 5.8, 5 & 4.5 is the state of economy: Chidambaram on GDP growth', 'content': 'Former Finance Minister P Chidambaram on Thursday said, \"Nothing sums up the state of the economy better than the following series of numbers: 8, 7, 6.6, 5.8, 5 and 4.5.\" He added, \"Those are the quarterly growth rates of GDP in the last six quarters.\" \"We\\'ll be lucky if growth rate touches 5% by the year\\'s end,\" he further said.', 'category': 'business', 'author': 'Pragya Swastik', 'published_date': '2019-12-05T10:41:04.000Z'}, {'title': 'Google Co-founders gain $2.3B after Sundar Pichai made Alphabet CEO', 'content': \"Google Co-founders Sergey Brin and Larry Page added a combined $2.3 billion to their net worths after Google-parent Alphabet's stock rose about 2%, Bloomberg revealed. This came after Google's 47-year-old India-born CEO Sundar Pichai on Wednesday was also named Alphabet CEO. The two co-founders each own about 6% of the internet giant and still control Alphabet through special voting shares.\", 'category': 'business', 'author': 'Kanishka Pandey', 'published_date': '2019-12-05T06:36:23.000Z'}, {'title': 'Musk says in court his net worth is around $20 bn, not much in cash', 'content': 'Tesla and SpaceX founder and CEO Elon Musk, in an ongoing defamation case by Thai cave rescuer Vernon Unsworth, testified that he estimates his net worth around $20 billion. However, Musk said his net worth comprises stocks in the aforementioned entities, with debt against those holdings, and is largely illiquid. The Bloomberg Billionaires Index puts his fortune at $26.6 billion.', 'category': 'business', 'author': 'Kanishka Pandey', 'published_date': '2019-12-05T06:11:10.000Z'}, {'title': 'Maharashtra govt suggests merger of PMC Bank with MSC Bank', 'content': \"In a bid to provide relief to depositors of scam-hit Punjab and Maharashtra Cooperative (PMC) Bank, Maharashtra government has suggested a merger of the bank with the Maharashtra State Cooperative Bank. If needed, the state government will speak to the RBI on the issue of the merger, state minister Jayant Patil said. He added that MSC Bank's health is good.\", 'category': 'business', 'author': 'Krishna Veera Vanamali', 'published_date': '2019-12-05T12:42:14.000Z'}, {'title': 'Feel embarrassed to ask, govt must pay: States to FM on GST compensation', 'content': 'The Finance Ministers of several states met Union Finance Minister Nirmala Sitharaman on Wednesday urging her to release the pending bi-monthly GST compensation, paid to states for their loss of revenue following GST implementation. \"We can\\'t come to Delhi every day, we feel embarrassed. Government is under obligation to pay,\" Punjab Finance Minister Manpreet Singh Badal said after the meeting.', 'category': 'business', 'author': 'Krishna Veera Vanamali', 'published_date': '2019-12-04T12:52:41.000Z'}, {'title': 'Nirav Modi declared fugitive economic offender over ₹14,000-crore PNB scam', 'content': \"Nirav Modi has been declared a fugitive economic offender under Fugitive Economic Offenders Act by a special Mumbai court in connection with ₹14,000-crore Punjab National Bank scam case. The court will also give a judgement regarding confiscation of his properties later. Nirav is currently lodged in the UK's Wandsworth Prison.\", 'category': 'business', 'author': 'Arshiya Chopra', 'published_date': '2019-12-05T07:11:15.000Z'}, {'title': 'Want control of manufacturing if we win $15bn India fighter jet deal: Saab', 'content': 'Swedish manufacturer Saab has said it wants to control the \"entire system\" including local manufacturing if it wins India\\'s $15-billion contract for 114 fighter jets. Saab has partnered with Adani Group for the bid. \"If a company needs to take responsibility for quality, time, cost and capability...I want to have some sort of control of that,\" CEO Micael Johansson said.', 'category': 'business', 'author': 'Krishna Veera Vanamali', 'published_date': '2019-12-05T10:25:52.000Z'}, {'title': \"S Korea's SK Group Chairman's wife files for divorce, seeks $1.2 billion\", 'content': \"Roh Soh-yeong, the wife of South Korean conglomerate SK Group's Chairman Chey Tae-won, has filed for divorce. Roh reportedly wants SK Holdings shares worth $1.2 billion held by Chey, who is its biggest shareholder. In 2017, two years after publicly confessing that he had extramarital affairs, Chey sought a court-mediated divorce but the two failed to reach an agreement.\", 'category': 'business', 'author': 'Krishna Veera Vanamali', 'published_date': '2019-12-05T02:30:33.000Z'}, {'title': 'Jio to hike tariffs by up to 39% from December 6, reveals new plans', 'content': 'Reliance Jio on Wednesday unveiled new prepaid plans that are up to 39% costlier and will be applicable from December 6. Jio will now charge customers ₹555 for an 84-day plan with 1.5 GB data/day compared to Airtel at ₹598 and Vodafone Idea at ₹599. The revised tariffs of Airtel and Vodafone Idea went into effect on December 3.', 'category': 'business', 'author': 'Krishna Veera Vanamali', 'published_date': '2019-12-04T15:38:31.000Z'}, {'title': \"Indonesia fires flag carrier's CEO for smuggling ₹41 lakh Harley on jet\", 'content': \"The Indonesian government has decided to fire flag carrier Garuda Indonesia's CEO Ari Askhara for smuggling a Harley-Davidson bike worth ₹41 lakh into the country on a new Airbus plane from France. Askhara had ordered the bike last year and bought it in April 2019. The payment was made through a Garuda finance manager based in Amsterdam, the government said.\\n\", 'category': 'business', 'author': 'Krishna Veera Vanamali', 'published_date': '2019-12-05T14:43:07.000Z'}, {'title': 'Airtel to raise up to ₹21,500 crore after SC ruling on past dues', 'content': 'Airtel has said it would raise up to ₹21,500 crore via debt and equity after a recent Supreme Court ruling asked telecom companies to pay ₹92,000 crore to the government. It reported a loss of ₹23,045 crore for the September quarter after it made a provision for the dues. Airtel and Vodafone Idea had recently sought relief from the government. ', 'category': 'business', 'author': 'Krishna Veera Vanamali', 'published_date': '2019-12-04T16:44:13.000Z'}, {'title': \"Ujjivan Small Finance Bank IPO becomes 2019's most subscribed, beats IRCTC\", 'content': \"The Initial Public Offering of Ujjivan Small Finance Bank was subscribed 166 times on the last day, becoming the most subscribed IPO of 2019. It overtook Indian Railway Catering And Tourism Corporation's (IRCTC) IPO, which was subscribed 112 times. The market value of the lender, which aimed to raise nearly ₹750 crore, will be nearly ₹6,400 crore after the IPO.\", 'category': 'business', 'author': 'Krishna Veera Vanamali', 'published_date': '2019-12-05T01:30:23.000Z'}, {'title': 'Our crew are human too: Vistara after user posts pic of air hostess sleeping', 'content': 'Vistara Chief Commercial Officer Sanjiv Kapoor responded to a Twitter user who posted a picture of an air hostess sleeping at an airport. The user asked Vistara to \"improve\" its image.  \"We don\\'t condone such photos being taken of our crew...without permission. Our crew...are human too. We suggest you do the right thing and take the photo down,\" Kapoor said.', 'category': 'business', 'author': 'Krishna Veera Vanamali', 'published_date': '2019-12-04T14:43:33.000Z'}, {'title': \"RBI cuts India's GDP growth forecast for the current fiscal to 5%\", 'content': 'The RBI on Thursday lowered its GDP growth forecast for 2019-20 to 5% from 6.1% in the October policy. While it kept the repo rate unchanged at 5.15%, the RBI reiterated that it would maintain an accommodative stance as long as it is necessary to revive growth. \"There is space available for further monetary policy action,\" Governor Shaktikanta Das said.', 'category': 'business', 'author': 'Krishna Veera Vanamali', 'published_date': '2019-12-05T09:29:22.000Z'}, {'title': \"Ford to use McDonald's coffee bean waste to make car parts\", 'content': \"Ford and McDonald's have partnered for a project in which the carmaker will use coffee bean waste to make auto parts like headlamp housings. Ford will use coffee chaff - bean husk that comes off during roasting - which can be mixed with plastic and formed into shapes. Notably, Ford has been using soy-based foam in its cushions since 2011.\", 'category': 'business', 'author': 'Anushka Dixit', 'published_date': '2019-12-05T05:57:54.000Z'}, {'title': \"6 tech giants contributed to $100 bn 'tax gap' in 10 yrs: Study\", 'content': \"A study by a British organisation that certifies businesses for good tax conduct stated six of Silicon Valley's top tech giants avoided paying over $100 billion in taxes over the past decade. It analysed global tax payments made by Amazon, Facebook, Google, Apple, Netflix and Microsoft. The research found over a $100-billion difference between their provisions and actual taxes paid. \", 'category': 'business', 'author': 'Aishwarya', 'published_date': '2019-12-05T17:26:35.000Z'}, {'title': 'Over 92,000 BSNL, MTNL employees opted for VRS: Union Minister', 'content': 'Over 92,000 employees of BSNL and MTNL have opted for voluntary retirement, Union Minister Ravi Shankar Prasad said. \"The VRS scheme will pave the way for a leaner meaner force,\" Prasad added. He further said that 75% of the BSNL revenue is spent on the salaries of its employees, whereas the MTNL is spending 87% of its revenue on salaries.', 'category': 'business', 'author': 'Shailesh', 'published_date': '2019-12-04T17:25:17.000Z'}, {'title': 'CSB Bank share lists at 41% premium to issue price in trading debut', 'content': 'Shares of Kerala-based CSB Bank listed at 41% premium against its issue price of ₹195 per share on the first day of trade on Wednesday. The stock extended gains and rallied 57% to hit a high of about ₹307 on the exchange and settled at 54% higher at ₹300. The ₹410-crore IPO of CSB Bank was subscribed nearly 87 times.\\n', 'category': 'business', 'author': 'Anushka Dixit', 'published_date': '2019-12-04T13:50:21.000Z'}, {'title': 'SBI to cut 8% stake in UTI mutual fund through IPO', 'content': 'State Bank of India will cut its stake in mutual fund UTI Asset Management Company (UTI AMC) by about 8.25% through an initial public offering. The bank holds an 18.24% stake in the company. SBI will cut its stake in UTI AMC through an offer for sale of up to 10.5 million shares, the bank said in a filing. ', 'category': 'business', 'author': 'Anushka Dixit', 'published_date': '2019-12-04T15:59:11.000Z'}, {'title': 'IL&FS reports ₹22,527 crore net loss for FY19', 'content': 'IL&FS has reported a loss of ₹22,527 crore for the year ended March 2019 compared to a net profit of ₹333 crore last year. The company has posted a revenue of ₹824 crore, against ₹1,734 crore in the previous year and its liabilities rose to ₹21,083 crore. IL&FS is currently undergoing a debt resolution process in the bankruptcy court.', 'category': 'business', 'author': 'Anushka Dixit', 'published_date': '2019-12-05T14:27:25.000Z'}, {'title': 'RBI has good idea of vulnerabilities in NBFC sector: Shaktikanta Das', 'content': 'RBI Governor Shaktikanta Das said central bank has \"a fairly good idea\" of where NBFC sectors\\' vulnerabilities lie and are closely monitoring it. \"We are, wherever required, making a deep dive into their books, their balance sheet and other numbers,\" Das said. The NBFC sector has reportedly been facing a funding crunch since 2018 after defaults at IL&FS Group subsidiaries.\\n', 'category': 'business', 'author': 'Anushka Dixit', 'published_date': '2019-12-05T12:08:30.000Z'}, {'title': 'RBI raises peer-to-peer lending limit five-times to ₹50 lakh', 'content': 'The Reserve Bank of India (RBI) has raised its lending limit to peer-to-peer (P2P) platforms five-folds to ₹50 lakh from current ₹10 lakh. However, the exposure of a single borrower is capped at ₹50,000 across all NBFC-P2P platforms. The decision was made after \"a review of the functioning of the lending platforms and lending limit was carried out by RBI.\"', 'category': 'business', 'author': 'Anushka Dixit', 'published_date': '2019-12-05T14:29:28.000Z'}, {'title': \"Canada's CPPIB to invest up to $600 mn through NIIF Master Fund\", 'content': \"Canada Pension Plan Investment Board (CPPIB) will invest up to $600 million through the National Investment and Infrastructure Fund (NIIF) Master Fund. CPPIB will also become a shareholder in NIIF's investment management firm. With CPPIB's investment, NIIF's Master Fund now has $2.1 billion in commitments including investment from AustralianSuper and Ontario Teachers' Pension Plan.\", 'category': 'business', 'author': 'Anushka Dixit', 'published_date': '2019-12-05T17:40:20.000Z'}]\n",
      "                    author  category  \\\n",
      "0   Krishna Veera Vanamali  business   \n",
      "1           Pragya Swastik  business   \n",
      "2           Pragya Swastik  business   \n",
      "3          Kanishka Pandey  business   \n",
      "4          Kanishka Pandey  business   \n",
      "5   Krishna Veera Vanamali  business   \n",
      "6   Krishna Veera Vanamali  business   \n",
      "7           Arshiya Chopra  business   \n",
      "8   Krishna Veera Vanamali  business   \n",
      "9   Krishna Veera Vanamali  business   \n",
      "10  Krishna Veera Vanamali  business   \n",
      "11  Krishna Veera Vanamali  business   \n",
      "12  Krishna Veera Vanamali  business   \n",
      "13  Krishna Veera Vanamali  business   \n",
      "14  Krishna Veera Vanamali  business   \n",
      "15  Krishna Veera Vanamali  business   \n",
      "16           Anushka Dixit  business   \n",
      "17               Aishwarya  business   \n",
      "18                Shailesh  business   \n",
      "19           Anushka Dixit  business   \n",
      "20           Anushka Dixit  business   \n",
      "21           Anushka Dixit  business   \n",
      "22           Anushka Dixit  business   \n",
      "23           Anushka Dixit  business   \n",
      "24           Anushka Dixit  business   \n",
      "\n",
      "                                              content  \\\n",
      "0   The RBI on Thursday kept the repo rate unchang...   \n",
      "1   Congress leader P Chidambaram walked out of Ti...   \n",
      "2   Former Finance Minister P Chidambaram on Thurs...   \n",
      "3   Google Co-founders Sergey Brin and Larry Page ...   \n",
      "4   Tesla and SpaceX founder and CEO Elon Musk, in...   \n",
      "5   In a bid to provide relief to depositors of sc...   \n",
      "6   The Finance Ministers of several states met Un...   \n",
      "7   Nirav Modi has been declared a fugitive econom...   \n",
      "8   Swedish manufacturer Saab has said it wants to...   \n",
      "9   Roh Soh-yeong, the wife of South Korean conglo...   \n",
      "10  Reliance Jio on Wednesday unveiled new prepaid...   \n",
      "11  The Indonesian government has decided to fire ...   \n",
      "12  Airtel has said it would raise up to ₹21,500 c...   \n",
      "13  The Initial Public Offering of Ujjivan Small F...   \n",
      "14  Vistara Chief Commercial Officer Sanjiv Kapoor...   \n",
      "15  The RBI on Thursday lowered its GDP growth for...   \n",
      "16  Ford and McDonald's have partnered for a proje...   \n",
      "17  A study by a British organisation that certifi...   \n",
      "18  Over 92,000 employees of BSNL and MTNL have op...   \n",
      "19  Shares of Kerala-based CSB Bank listed at 41% ...   \n",
      "20  State Bank of India will cut its stake in mutu...   \n",
      "21  IL&FS has reported a loss of ₹22,527 crore for...   \n",
      "22  RBI Governor Shaktikanta Das said central bank...   \n",
      "23  The Reserve Bank of India (RBI) has raised its...   \n",
      "24  Canada Pension Plan Investment Board (CPPIB) w...   \n",
      "\n",
      "              published_date  \\\n",
      "0   2019-12-05T06:25:25.000Z   \n",
      "1   2019-12-04T14:57:31.000Z   \n",
      "2   2019-12-05T10:41:04.000Z   \n",
      "3   2019-12-05T06:36:23.000Z   \n",
      "4   2019-12-05T06:11:10.000Z   \n",
      "5   2019-12-05T12:42:14.000Z   \n",
      "6   2019-12-04T12:52:41.000Z   \n",
      "7   2019-12-05T07:11:15.000Z   \n",
      "8   2019-12-05T10:25:52.000Z   \n",
      "9   2019-12-05T02:30:33.000Z   \n",
      "10  2019-12-04T15:38:31.000Z   \n",
      "11  2019-12-05T14:43:07.000Z   \n",
      "12  2019-12-04T16:44:13.000Z   \n",
      "13  2019-12-05T01:30:23.000Z   \n",
      "14  2019-12-04T14:43:33.000Z   \n",
      "15  2019-12-05T09:29:22.000Z   \n",
      "16  2019-12-05T05:57:54.000Z   \n",
      "17  2019-12-05T17:26:35.000Z   \n",
      "18  2019-12-04T17:25:17.000Z   \n",
      "19  2019-12-04T13:50:21.000Z   \n",
      "20  2019-12-04T15:59:11.000Z   \n",
      "21  2019-12-05T14:27:25.000Z   \n",
      "22  2019-12-05T12:08:30.000Z   \n",
      "23  2019-12-05T14:29:28.000Z   \n",
      "24  2019-12-05T17:40:20.000Z   \n",
      "\n",
      "                                                title  \n",
      "0   RBI keeps repo rate unchanged at 5.15% after f...  \n",
      "1   P Chidambaram walks out of Tihar Jail after 10...  \n",
      "2   8, 7, 6.6, 5.8, 5 & 4.5 is the state of econom...  \n",
      "3   Google Co-founders gain $2.3B after Sundar Pic...  \n",
      "4   Musk says in court his net worth is around $20...  \n",
      "5   Maharashtra govt suggests merger of PMC Bank w...  \n",
      "6   Feel embarrassed to ask, govt must pay: States...  \n",
      "7   Nirav Modi declared fugitive economic offender...  \n",
      "8   Want control of manufacturing if we win $15bn ...  \n",
      "9   S Korea's SK Group Chairman's wife files for d...  \n",
      "10  Jio to hike tariffs by up to 39% from December...  \n",
      "11  Indonesia fires flag carrier's CEO for smuggli...  \n",
      "12  Airtel to raise up to ₹21,500 crore after SC r...  \n",
      "13  Ujjivan Small Finance Bank IPO becomes 2019's ...  \n",
      "14  Our crew are human too: Vistara after user pos...  \n",
      "15  RBI cuts India's GDP growth forecast for the c...  \n",
      "16  Ford to use McDonald's coffee bean waste to ma...  \n",
      "17  6 tech giants contributed to $100 bn 'tax gap'...  \n",
      "18  Over 92,000 BSNL, MTNL employees opted for VRS...  \n",
      "19  CSB Bank share lists at 41% premium to issue p...  \n",
      "20  SBI to cut 8% stake in UTI mutual fund through...  \n",
      "21      IL&FS reports ₹22,527 crore net loss for FY19  \n",
      "22  RBI has good idea of vulnerabilities in NBFC s...  \n",
      "23  RBI raises peer-to-peer lending limit five-tim...  \n",
      "24  Canada's CPPIB to invest up to $600 mn through...  \n"
     ]
    }
   ],
   "source": [
    "from requests import get\n",
    "from bs4 import BeautifulSoup\n",
    "import os\n",
    "import pandas as pd\n",
    "\n",
    "import acquire"
   ]
  },
  {
   "cell_type": "code",
   "execution_count": null,
   "metadata": {},
   "outputs": [],
   "source": [
    "url = 'https://codeup.com/codeups-data-science-career-accelerator-is-here/'\n",
    "headers = {'User-Agent': 'Codeup Ada Data Science'} # codeup.com doesn't like our default user-agent\n",
    "response = get(url, headers=headers)"
   ]
  },
  {
   "cell_type": "code",
   "execution_count": null,
   "metadata": {},
   "outputs": [],
   "source": [
    "print(response.text[:400])"
   ]
  },
  {
   "cell_type": "code",
   "execution_count": null,
   "metadata": {},
   "outputs": [],
   "source": [
    "soup = BeautifulSoup(response.content, 'html.parser')"
   ]
  },
  {
   "cell_type": "code",
   "execution_count": null,
   "metadata": {},
   "outputs": [],
   "source": [
    "article = soup.find('div', class_='mk-single-content')\n",
    "article.text"
   ]
  },
  {
   "cell_type": "code",
   "execution_count": null,
   "metadata": {},
   "outputs": [],
   "source": [
    "with open('article.txt', 'w') as f:\n",
    "    f.write(article.text)"
   ]
  },
  {
   "cell_type": "code",
   "execution_count": null,
   "metadata": {},
   "outputs": [],
   "source": [
    "def get_article_text(url):\n",
    "    # if we already have the data, read it locally\n",
    "    if os.path.exists('article.txt'):\n",
    "        with open('article.txt') as f:\n",
    "            return f.read()\n",
    "\n",
    "    # otherwise go fetch the data\n",
    "    \n",
    "    headers = {'User-Agent': 'Codeup Ada Data Science'}\n",
    "    response = get(url, headers=headers)\n",
    "    soup = BeautifulSoup(response.text)\n",
    "    article = soup.find('div', class_='mk-single-content')\n",
    "\n",
    "    # save it for next time\n",
    "    with open('article.txt', 'w') as f:\n",
    "        f.write(article.text)\n",
    "\n",
    "    return article.text\n",
    "#url = 'https://codeup.com/codeups-data-science-career-accelerator-is-here/'"
   ]
  },
  {
   "cell_type": "code",
   "execution_count": null,
   "metadata": {},
   "outputs": [],
   "source": []
  },
  {
   "cell_type": "code",
   "execution_count": null,
   "metadata": {},
   "outputs": [],
   "source": [
    "def make_dictionary_from_article(url):\n",
    "    headers = {'User-Agent': 'Codeup Bayes Data Science'}\n",
    "    response = get(url,headers=headers)\n",
    "    soup = BeautifulSoup(response.text,)\n",
    "    title = soup.find(\"h1\")\n",
    "    body = soup.find(\"div\", class_=\"mk-single-content\")   \n",
    "    \n",
    "    return {\n",
    "        \"title\": title.get_text(),\n",
    "        \"body\": body.get_text()\n",
    "    }"
   ]
  },
  {
   "cell_type": "code",
   "execution_count": null,
   "metadata": {},
   "outputs": [],
   "source": []
  },
  {
   "cell_type": "code",
   "execution_count": null,
   "metadata": {},
   "outputs": [],
   "source": []
  },
  {
   "cell_type": "code",
   "execution_count": null,
   "metadata": {},
   "outputs": [],
   "source": []
  }
 ],
 "metadata": {
  "kernelspec": {
   "display_name": "Python 3",
   "language": "python",
   "name": "python3"
  },
  "language_info": {
   "codemirror_mode": {
    "name": "ipython",
    "version": 3
   },
   "file_extension": ".py",
   "mimetype": "text/x-python",
   "name": "python",
   "nbconvert_exporter": "python",
   "pygments_lexer": "ipython3",
   "version": "3.7.3"
  }
 },
 "nbformat": 4,
 "nbformat_minor": 2
}
